{
 "cells": [
  {
   "cell_type": "markdown",
   "metadata": {},
   "source": [
    "# Общие замечания по первому ДЗ."
   ]
  },
  {
   "cell_type": "code",
   "execution_count": 3,
   "metadata": {},
   "outputs": [],
   "source": [
    "import numpy as np"
   ]
  },
  {
   "cell_type": "markdown",
   "metadata": {},
   "source": [
    "1.1.6 Даны: исходный массив $A$ и $B$ (одномерные). Как вычислить выражения $-((B-А)*(B/2))$ \"in place\" т.е. используя для промежуточных результатов и конечного резульатата ихсодный массив $A$?"
   ]
  },
  {
   "cell_type": "markdown",
   "metadata": {},
   "source": [
    "К сожалению, большинство студентов не справились с этим заданием. Непонимание механизма работы `ndarray` в будущем доставит вам немало хлопот, поэтому давайте подробнее окунемся в эту тему.  \n",
    "В основе этой заметки - ответ на [stackoverflow](https://stackoverflow.com/questions/35910577/why-does-python-numpys-mutate-the-original-array#:~:text=Numpy%20arrays%20are%20mutable%20objects,the%20operation%20is%20a%20%3D%20np)."
   ]
  },
  {
   "cell_type": "markdown",
   "metadata": {},
   "source": [
    "Многие из вас должно быть слышали, что в python объекты бывают двух видов: mutable и immutable. Разница состоит в том, что в mutable-объектах значения полей можно изменять после их создания, в immutable - нет.  \n",
    "Преимуществом mutable объектов является возможность хранить различные состояния, которые меняются в ходе выполнения программы. Такой подход  здорово упрощает реализацию бизнес логики приложения.  \n",
    "Immutable объекты нельзя изменить после их создания, можно лишь создавать новые объекты на их основе. Такой подход имеет своё преимущество - можно писать код в функциональной парадигме. Это упрощает разработку более производительных многопоточных приложений.  \n",
    "В библиотеке numpy объекты типа ndarray по умолчанию создаются mutable. Создадим массив и изменим его элемент."
   ]
  },
  {
   "cell_type": "code",
   "execution_count": 9,
   "metadata": {},
   "outputs": [
    {
     "name": "stdout",
     "output_type": "stream",
     "text": [
      "[10  1  2  3  4  5  6  7  8  9]\n"
     ]
    }
   ],
   "source": [
    "a = np.arange(10)\n",
    "a[0] = 10\n",
    "print(a)"
   ]
  },
  {
   "cell_type": "markdown",
   "metadata": {},
   "source": [
    "Однако созданный экземпляр ndarray можно сделать immutable установкой флага `writable = False`  \n",
    "\n",
    "Попытка изменить значение элемента теперь вызовет ошибку."
   ]
  },
  {
   "cell_type": "code",
   "execution_count": 10,
   "metadata": {},
   "outputs": [
    {
     "ename": "ValueError",
     "evalue": "assignment destination is read-only",
     "output_type": "error",
     "traceback": [
      "\u001b[0;31m---------------------------------------------------------------------------\u001b[0m",
      "\u001b[0;31mValueError\u001b[0m                                Traceback (most recent call last)",
      "\u001b[0;32m<ipython-input-10-e84d8fd1c1d4>\u001b[0m in \u001b[0;36m<module>\u001b[0;34m\u001b[0m\n\u001b[1;32m      1\u001b[0m \u001b[0ma\u001b[0m \u001b[0;34m=\u001b[0m \u001b[0mnp\u001b[0m\u001b[0;34m.\u001b[0m\u001b[0marange\u001b[0m\u001b[0;34m(\u001b[0m\u001b[0;36m10\u001b[0m\u001b[0;34m)\u001b[0m\u001b[0;34m\u001b[0m\u001b[0;34m\u001b[0m\u001b[0m\n\u001b[1;32m      2\u001b[0m \u001b[0ma\u001b[0m\u001b[0;34m.\u001b[0m\u001b[0mflags\u001b[0m\u001b[0;34m.\u001b[0m\u001b[0mwriteable\u001b[0m \u001b[0;34m=\u001b[0m \u001b[0;32mFalse\u001b[0m\u001b[0;34m\u001b[0m\u001b[0;34m\u001b[0m\u001b[0m\n\u001b[0;32m----> 3\u001b[0;31m \u001b[0ma\u001b[0m\u001b[0;34m[\u001b[0m\u001b[0;36m0\u001b[0m\u001b[0;34m]\u001b[0m \u001b[0;34m=\u001b[0m \u001b[0;36m10\u001b[0m\u001b[0;34m\u001b[0m\u001b[0;34m\u001b[0m\u001b[0m\n\u001b[0m\u001b[1;32m      4\u001b[0m \u001b[0mprint\u001b[0m\u001b[0;34m(\u001b[0m\u001b[0ma\u001b[0m\u001b[0;34m)\u001b[0m\u001b[0;34m\u001b[0m\u001b[0;34m\u001b[0m\u001b[0m\n",
      "\u001b[0;31mValueError\u001b[0m: assignment destination is read-only"
     ]
    }
   ],
   "source": [
    "a = np.arange(10)\n",
    "a.flags.writeable = False\n",
    "a[0] = 10\n",
    "print(a)"
   ]
  },
  {
   "cell_type": "markdown",
   "metadata": {},
   "source": [
    "Давайте рассмотрим задание.\n",
    "\n",
    "**Дано:**  \n",
    "Исходные массивы $A$ и $B$ (одномерные).  \n",
    "**Требуется:**  \n",
    "Вычислить выражения $-((B-А)*(B/2))$ \"in place\" т.е. используя для промежуточных результатов и конечного результата исходный массив $A$"
   ]
  },
  {
   "cell_type": "code",
   "execution_count": 31,
   "metadata": {},
   "outputs": [
    {
     "name": "stdout",
     "output_type": "stream",
     "text": [
      "[1. 1. 1. 1.] [2. 2. 2. 2.]\n"
     ]
    }
   ],
   "source": [
    "A = np.ones(4)\n",
    "B = np.ones(4) * 2\n",
    "print(A, B)"
   ]
  },
  {
   "cell_type": "markdown",
   "metadata": {},
   "source": [
    "Посмотрим на адрес объекта `A` в памяти (идентификатор `id`): "
   ]
  },
  {
   "cell_type": "code",
   "execution_count": 32,
   "metadata": {},
   "outputs": [
    {
     "data": {
      "text/plain": [
       "139704608056944"
      ]
     },
     "execution_count": 32,
     "metadata": {},
     "output_type": "execute_result"
    }
   ],
   "source": [
    "id(A)"
   ]
  },
  {
   "cell_type": "markdown",
   "metadata": {},
   "source": [
    "Вот пример решения, которое позволяет получить правильный ответ."
   ]
  },
  {
   "cell_type": "code",
   "execution_count": 33,
   "metadata": {},
   "outputs": [
    {
     "name": "stdout",
     "output_type": "stream",
     "text": [
      "[-1. -1. -1. -1.]\n"
     ]
    }
   ],
   "source": [
    "A = -A\n",
    "A += B\n",
    "B = B/2\n",
    "A *= B\n",
    "A = -A\n",
    "print(A)"
   ]
  },
  {
   "cell_type": "markdown",
   "metadata": {},
   "source": [
    "Однако остался ли объект `A` на прежнем месте? "
   ]
  },
  {
   "cell_type": "code",
   "execution_count": 34,
   "metadata": {},
   "outputs": [
    {
     "data": {
      "text/plain": [
       "139704608057664"
      ]
     },
     "execution_count": 34,
     "metadata": {},
     "output_type": "execute_result"
    }
   ],
   "source": [
    "id(A)"
   ]
  },
  {
   "cell_type": "markdown",
   "metadata": {},
   "source": [
    "Нет.  \n",
    "Дело в том, что в python оператор `+` (сложение) вызывает метод `__add__` левого операнда или в некоторых редких случаях метод `__radd__` правого операнда.  \n",
    "Оператор `+=` (сложение с присвоением) работает по-другому, `A += B` не всегда эквивалентно `A = A + B`.  \n",
    "Если для левого операнда определен метод `__iadd__`, то он и вызывается для оператора `+=`. В этом случае осуществляется in-place add, т.е. результат сложения будет записан в этот же объект, адрес объекта в памяти не изменяется.  \n",
    "Если же метод `__iadd__` не определен, то осуществляется обычное сложение с присвоением: `A += B` которое эквивалентно `A = A + B`. В результате сложения `A + B` создается новый объект, ссылка на который который записывается в переменную `A`.  \n",
    "Этот механизм работает так же для вычитания, умножения и деления."
   ]
  },
  {
   "cell_type": "markdown",
   "metadata": {},
   "source": [
    "Для того, чтобы решить задачу с вычислениями `in-place`, немного упростим выражение: $-((B-А)*(B/2)) => (A-B)*B/2$ "
   ]
  },
  {
   "cell_type": "code",
   "execution_count": 43,
   "metadata": {},
   "outputs": [
    {
     "name": "stdout",
     "output_type": "stream",
     "text": [
      "139704608714064\n"
     ]
    }
   ],
   "source": [
    "A = np.ones(4)\n",
    "B = np.ones(4) * 2\n",
    "print(id(A))"
   ]
  },
  {
   "cell_type": "code",
   "execution_count": 44,
   "metadata": {},
   "outputs": [
    {
     "name": "stdout",
     "output_type": "stream",
     "text": [
      "[-1. -1. -1. -1.]\n"
     ]
    }
   ],
   "source": [
    "A -= B\n",
    "A *= B\n",
    "A /= 2\n",
    "print(A)"
   ]
  },
  {
   "cell_type": "code",
   "execution_count": 45,
   "metadata": {},
   "outputs": [
    {
     "data": {
      "text/plain": [
       "139704608714064"
      ]
     },
     "execution_count": 45,
     "metadata": {},
     "output_type": "execute_result"
    }
   ],
   "source": [
    "id(A)"
   ]
  },
  {
   "cell_type": "markdown",
   "metadata": {},
   "source": [
    "Как видите, адрес объекта не изменился, т.е. все вычисления осуществлялись `in-place`.  \n",
    "Напоследок вспомним, что в `numpy` есть функции, реализующие базовую арифметику.  \n",
    "Выражение `a = a + b` эквивалентно вызову функции `a = np.add(a, b)`. Выражение `a += b` эквивалентно `a = np.add(a, b, out=a)`"
   ]
  },
  {
   "cell_type": "markdown",
   "metadata": {},
   "source": [
    "Более подробно про выделение памяти под объекты в python можно почитать в статье www.math.buffalo.edu/mutable_vs_immutable"
   ]
  },
  {
   "cell_type": "markdown",
   "metadata": {},
   "source": []
  },
  {
   "cell_type": "markdown",
   "metadata": {},
   "source": [
    "1.6.2 Найти все простые числа в пределах ста. (Для решения предлагается использовать Решето Эратосфена) Использовать не более 1 цикла (желательно)."
   ]
  },
  {
   "cell_type": "markdown",
   "metadata": {},
   "source": [
    "Большинство студентов просто скопировали Вариант 1 из [wiki](https://ru.wikibooks.org/wiki/%D0%A0%D0%B5%D0%B0%D0%BB%D0%B8%D0%B7%D0%B0%D1%86%D0%B8%D0%B8_%D0%B0%D0%BB%D0%B3%D0%BE%D1%80%D0%B8%D1%82%D0%BC%D0%BE%D0%B2/%D0%A0%D0%B5%D1%88%D0%B5%D1%82%D0%BE_%D0%AD%D1%80%D0%B0%D1%82%D0%BE%D1%81%D1%84%D0%B5%D0%BD%D0%B0#%D0%92%D0%B0%D1%80%D0%B8%D0%B0%D0%BD%D1%82_%E2%84%96_1): "
   ]
  },
  {
   "cell_type": "code",
   "execution_count": 1,
   "metadata": {},
   "outputs": [],
   "source": [
    "def eratosthenes(n):     # n - число, до которого хотим найти простые числа \n",
    "    sieve = list(range(n + 1))\n",
    "    sieve[1] = 0    # без этой строки итоговый список будет содержать единицу\n",
    "    for i in sieve:\n",
    "        if i > 1:\n",
    "            for j in range(i + i, len(sieve), i):\n",
    "                sieve[j] = 0\n",
    "    return sieve"
   ]
  },
  {
   "cell_type": "markdown",
   "metadata": {},
   "source": [
    "А хотелось бы видеть что-то такое:"
   ]
  },
  {
   "cell_type": "code",
   "execution_count": 3,
   "metadata": {},
   "outputs": [
    {
     "data": {
      "text/plain": [
       "array([ 1,  2,  3,  5,  7, 11, 13, 17, 19, 23, 29, 31, 37, 41, 43, 47, 53,\n",
       "       59, 61, 67, 71, 73, 79, 83, 89, 97])"
      ]
     },
     "execution_count": 3,
     "metadata": {},
     "output_type": "execute_result"
    }
   ],
   "source": [
    "n = 100\n",
    "s = np.arange(n+1)\n",
    "for i in range(2, len(s)):\n",
    "    if s[i]!=0:\n",
    "        s[range(2*i, len(s), i)] = 0\n",
    "s[s!=0]"
   ]
  },
  {
   "cell_type": "markdown",
   "metadata": {},
   "source": [
    "Вот вариант решения от Буховцевой Кристины. Недостаток - используется `list`, а хотелось бы оставаться на массивах `numpy`:"
   ]
  },
  {
   "cell_type": "code",
   "execution_count": 5,
   "metadata": {
    "scrolled": true
   },
   "outputs": [
    {
     "data": {
      "text/plain": [
       "[2,\n",
       " 3,\n",
       " 5,\n",
       " 7,\n",
       " 11,\n",
       " 13,\n",
       " 17,\n",
       " 19,\n",
       " 23,\n",
       " 29,\n",
       " 31,\n",
       " 37,\n",
       " 41,\n",
       " 43,\n",
       " 47,\n",
       " 53,\n",
       " 59,\n",
       " 61,\n",
       " 67,\n",
       " 71,\n",
       " 73,\n",
       " 79,\n",
       " 83,\n",
       " 89,\n",
       " 97]"
      ]
     },
     "execution_count": 5,
     "metadata": {},
     "output_type": "execute_result"
    }
   ],
   "source": [
    "arr = np.array(range(3,100,2))\n",
    "for j in range(0, int(round(np.sqrt(10)))):\n",
    "    arr[(arr!=arr[j])&(arr%arr[j]==0)]=0\n",
    "    arr=arr[arr!=0]\n",
    "arr=[2]+list(arr)\n",
    "arr"
   ]
  },
  {
   "cell_type": "markdown",
   "metadata": {},
   "source": [
    "Отличный вариант от Себякина Андрея:"
   ]
  },
  {
   "cell_type": "code",
   "execution_count": 4,
   "metadata": {},
   "outputs": [
    {
     "name": "stdout",
     "output_type": "stream",
     "text": [
      "[ 2  3  5  7 11 13 17 19 23 29 31 37 41 43 47 53 59 61 67 71 73 79 83 89\n",
      " 97]\n"
     ]
    }
   ],
   "source": [
    "def sieve(n):\n",
    "    flags = np.ones(n, dtype=bool)\n",
    "    flags[0] = flags[1] = False\n",
    "    for i in range(2, n):\n",
    "        if flags[i]:\n",
    "            flags[i*i::i] = False\n",
    "    return np.flatnonzero(flags)\n",
    "\n",
    "print(sieve(100))"
   ]
  }
 ],
 "metadata": {
  "kernelspec": {
   "display_name": "Python 3",
   "language": "python",
   "name": "python3"
  },
  "language_info": {
   "codemirror_mode": {
    "name": "ipython",
    "version": 3
   },
   "file_extension": ".py",
   "mimetype": "text/x-python",
   "name": "python",
   "nbconvert_exporter": "python",
   "pygments_lexer": "ipython3",
   "version": "3.7.3"
  }
 },
 "nbformat": 4,
 "nbformat_minor": 2
}
