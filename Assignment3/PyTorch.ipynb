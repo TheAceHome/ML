{
  "nbformat": 4,
  "nbformat_minor": 0,
  "metadata": {
    "kernelspec": {
      "display_name": "Python 3",
      "language": "python",
      "name": "python3"
    },
    "language_info": {
      "codemirror_mode": {
        "name": "ipython",
        "version": 3
      },
      "file_extension": ".py",
      "mimetype": "text/x-python",
      "name": "python",
      "nbconvert_exporter": "python",
      "pygments_lexer": "ipython3",
      "version": "3.7.0"
    },
    "colab": {
      "name": "PyTorch.ipynb",
      "provenance": [],
      "collapsed_sections": []
    }
  },
  "cells": [
    {
      "cell_type": "markdown",
      "metadata": {
        "id": "1szL9jDXkukC"
      },
      "source": [
        "# Задание 2.2 - Введение в PyTorch\n",
        "\n",
        "Для этого задания потребуется установить версию PyTorch 1.x\n",
        "\n",
        "https://pytorch.org/get-started/locally/\n",
        "\n",
        "В этом задании мы познакомимся с основными компонентами PyTorch и натренируем несколько небольших моделей.<br>\n",
        "GPU нам пока не понадобится.\n",
        "\n",
        "Основные ссылки:  \n",
        "https://pytorch.org/tutorials/beginner/deep_learning_60min_blitz.html  \n",
        "https://pytorch.org/docs/stable/nn.html  \n",
        "https://pytorch.org/docs/stable/torchvision/index.html  "
      ]
    },
    {
      "cell_type": "code",
      "metadata": {
        "pycharm": {
          "name": "#%%\n"
        },
        "colab": {
          "base_uri": "https://localhost:8080/"
        },
        "id": "NKZRuB3ckukP",
        "outputId": "9d84e028-dc8f-4acb-948b-172afec87428"
      },
      "source": [
        "# Запустите эту ячейку если работаете в Colab\n",
        "!git clone https://github.com/TheAceHome/ML.git\n",
        "%cd ML/data\n",
        "! wget -c http://ufldl.stanford.edu/housenumbers/train_32x32.mat http://ufldl.stanford.edu/housenumbers/test_32x32.mat\n",
        "%cd ../Assignment3"
      ],
      "execution_count": 1,
      "outputs": [
        {
          "output_type": "stream",
          "text": [
            "Cloning into 'ML'...\n",
            "remote: Enumerating objects: 241, done.\u001b[K\n",
            "remote: Counting objects: 100% (241/241), done.\u001b[K\n",
            "remote: Compressing objects: 100% (155/155), done.\u001b[K\n",
            "remote: Total 241 (delta 99), reused 190 (delta 71), pack-reused 0\u001b[K\n",
            "Receiving objects: 100% (241/241), 1.14 MiB | 12.64 MiB/s, done.\n",
            "Resolving deltas: 100% (99/99), done.\n",
            "/content/ML/data\n",
            "--2021-03-08 13:47:07--  http://ufldl.stanford.edu/housenumbers/train_32x32.mat\n",
            "Resolving ufldl.stanford.edu (ufldl.stanford.edu)... 171.64.68.10\n",
            "Connecting to ufldl.stanford.edu (ufldl.stanford.edu)|171.64.68.10|:80... connected.\n",
            "HTTP request sent, awaiting response... 200 OK\n",
            "Length: 182040794 (174M) [text/plain]\n",
            "Saving to: ‘train_32x32.mat’\n",
            "\n",
            "train_32x32.mat     100%[===================>] 173.61M  55.8MB/s    in 3.4s    \n",
            "\n",
            "2021-03-08 13:47:10 (50.5 MB/s) - ‘train_32x32.mat’ saved [182040794/182040794]\n",
            "\n",
            "--2021-03-08 13:47:10--  http://ufldl.stanford.edu/housenumbers/test_32x32.mat\n",
            "Reusing existing connection to ufldl.stanford.edu:80.\n",
            "HTTP request sent, awaiting response... 200 OK\n",
            "Length: 64275384 (61M) [text/plain]\n",
            "Saving to: ‘test_32x32.mat’\n",
            "\n",
            "test_32x32.mat      100%[===================>]  61.30M  98.6MB/s    in 0.6s    \n",
            "\n",
            "2021-03-08 13:47:11 (98.6 MB/s) - ‘test_32x32.mat’ saved [64275384/64275384]\n",
            "\n",
            "FINISHED --2021-03-08 13:47:11--\n",
            "Total wall clock time: 4.2s\n",
            "Downloaded: 2 files, 235M in 4.1s (57.9 MB/s)\n",
            "/content/ML/Assignment3\n"
          ],
          "name": "stdout"
        }
      ]
    },
    {
      "cell_type": "code",
      "metadata": {
        "scrolled": true,
        "id": "tgFQldgYkukQ"
      },
      "source": [
        "import torch\n",
        "import torch.nn as nn\n",
        "import torch.optim as optim\n",
        "import torchvision.datasets as dset\n",
        "from torch.utils.data.sampler import SubsetRandomSampler, Sampler\n",
        "\n",
        "from torchvision import transforms\n",
        "\n",
        "import matplotlib.pyplot as plt\n",
        "%matplotlib inline\n",
        "\n",
        "import numpy as np"
      ],
      "execution_count": 20,
      "outputs": []
    },
    {
      "cell_type": "markdown",
      "metadata": {
        "id": "vGHhBCCzkukR"
      },
      "source": [
        "## Как всегда, начинаем с загрузки данных\n",
        "\n",
        "PyTorch поддерживает загрузку SVHN из коробки."
      ]
    },
    {
      "cell_type": "code",
      "metadata": {
        "scrolled": true,
        "id": "K9hF1OjxkukR"
      },
      "source": [
        "# First, lets load the dataset\n",
        "data_train = dset.SVHN('../data/', split='train',\n",
        "                       transform=transforms.Compose([\n",
        "                           transforms.ToTensor(),\n",
        "                           transforms.Normalize(mean=[0.43,0.44,0.47],\n",
        "                                               std=[0.20,0.20,0.20])                           \n",
        "                       ])\n",
        "                      )\n",
        "data_test = dset.SVHN('../data/', split='test',\n",
        "                      transform=transforms.Compose([\n",
        "                           transforms.ToTensor(),\n",
        "                           transforms.Normalize(mean=[0.43,0.44,0.47],\n",
        "                                               std=[0.20,0.20,0.20])                           \n",
        "                       ]))"
      ],
      "execution_count": 17,
      "outputs": []
    },
    {
      "cell_type": "markdown",
      "metadata": {
        "id": "k6USv9tZkukR"
      },
      "source": [
        "Теперь мы разделим данные на training и validation с использованием классов `SubsetRandomSampler` и `DataLoader`.\n",
        "\n",
        "`DataLoader` подгружает данные, предоставляемые классом `Dataset`, во время тренировки и группирует их в батчи.\n",
        "Он дает возможность указать `Sampler`, который выбирает, какие примеры из датасета использовать для тренировки. Мы используем это, чтобы разделить данные на training и validation.\n",
        "\n",
        "Подробнее: https://pytorch.org/tutorials/beginner/data_loading_tutorial.html"
      ]
    },
    {
      "cell_type": "code",
      "metadata": {
        "scrolled": true,
        "id": "nnGabuR-kukS"
      },
      "source": [
        "batch_size = 64\n",
        "\n",
        "data_size = data_train.data.shape[0]\n",
        "validation_split = .2\n",
        "split = int(np.floor(validation_split * data_size))\n",
        "indices = list(range(data_size))\n",
        "np.random.shuffle(indices)\n",
        "\n",
        "train_indices, val_indices = indices[split:], indices[:split]\n",
        "\n",
        "train_sampler = SubsetRandomSampler(train_indices)\n",
        "val_sampler = SubsetRandomSampler(val_indices)\n",
        "\n",
        "train_loader = torch.utils.data.DataLoader(data_train, batch_size=batch_size, \n",
        "                                           sampler=train_sampler)\n",
        "val_loader = torch.utils.data.DataLoader(data_train, batch_size=batch_size,\n",
        "                                         sampler=val_sampler)"
      ],
      "execution_count": 4,
      "outputs": []
    },
    {
      "cell_type": "markdown",
      "metadata": {
        "id": "6tz4m4YIkukS"
      },
      "source": [
        "В нашей задаче мы получаем на вход изображения, но работаем с ними как с одномерными массивами. Чтобы превратить многомерный массив в одномерный, мы воспользуемся очень простым вспомогательным модулем `Flattener`."
      ]
    },
    {
      "cell_type": "code",
      "metadata": {
        "scrolled": true,
        "id": "20b38wp3kukS",
        "colab": {
          "base_uri": "https://localhost:8080/"
        },
        "outputId": "8479d2d5-9249-43de-9d3e-f8f79b3c9db4"
      },
      "source": [
        "sample, label = data_train[0]\n",
        "print(\"SVHN data sample shape: \", sample.shape)\n",
        "# As you can see, the data is shaped like an image\n",
        "\n",
        "# We'll use a special helper module to shape it into a tensor\n",
        "class Flattener(nn.Module):\n",
        "    def forward(self, x):\n",
        "        batch_size, *_ = x.shape\n",
        "        return x.view(batch_size, -1)"
      ],
      "execution_count": 5,
      "outputs": [
        {
          "output_type": "stream",
          "text": [
            "SVHN data sample shape:  torch.Size([3, 32, 32])\n"
          ],
          "name": "stdout"
        }
      ]
    },
    {
      "cell_type": "markdown",
      "metadata": {
        "id": "qRrV-oB5kukT"
      },
      "source": [
        "И наконец, мы создаем основные объекты PyTorch:\n",
        "- `nn_model` - собственно, модель с нейросетью\n",
        "- `loss` - функцию ошибки, в нашем случае `CrossEntropyLoss`\n",
        "- `optimizer` - алгоритм оптимизации, в нашем случае просто `SGD`"
      ]
    },
    {
      "cell_type": "code",
      "metadata": {
        "scrolled": true,
        "id": "4C9FjriBkukT"
      },
      "source": [
        "nn_model = nn.Sequential(\n",
        "            Flattener(),\n",
        "            nn.Linear(3*32*32, 100),\n",
        "            nn.ReLU(inplace=True),\n",
        "            nn.Linear(100, 10), \n",
        "         )\n",
        "nn_model.type(torch.FloatTensor)\n",
        "\n",
        "# We will minimize cross-entropy between the ground truth and\n",
        "# network predictions using an SGD optimizer\n",
        "loss = nn.CrossEntropyLoss().type(torch.FloatTensor)\n",
        "optimizer = optim.SGD(nn_model.parameters(), lr=1e-2, weight_decay=1e-1)"
      ],
      "execution_count": 6,
      "outputs": []
    },
    {
      "cell_type": "markdown",
      "metadata": {
        "id": "Zq4IVqW9kukT"
      },
      "source": [
        "## Тренируем!\n",
        "\n",
        "Ниже приведена функция `train_model`, реализующая основной цикл тренировки PyTorch.\n",
        "\n",
        "Каждую эпоху эта функция вызывает функцию `compute_accuracy`, которая вычисляет точность на validation, эту последнюю функцию предлагается реализовать вам."
      ]
    },
    {
      "cell_type": "code",
      "metadata": {
        "scrolled": true,
        "id": "4oAtFiXykukU",
        "colab": {
          "base_uri": "https://localhost:8080/"
        },
        "outputId": "6ef9e11b-e37b-475a-a71e-b0fb2d5b8539"
      },
      "source": [
        "# This is how to implement the same main train loop in PyTorch. Pretty easy, right?\n",
        "\n",
        "def train_model(model, train_loader, val_loader, loss, optimizer, num_epochs):    \n",
        "    loss_history = []\n",
        "    train_history = []\n",
        "    val_history = []\n",
        "    for epoch in range(num_epochs):\n",
        "        model.train() # Enter train mode\n",
        "        \n",
        "        loss_accum = 0\n",
        "        correct_samples = 0\n",
        "        total_samples = 0\n",
        "        for i_step, (x, y) in enumerate(train_loader):\n",
        "            prediction = model(x)    \n",
        "            loss_value = loss(prediction, y)\n",
        "            optimizer.zero_grad()\n",
        "            loss_value.backward()\n",
        "            optimizer.step()\n",
        "            \n",
        "            _, indices = torch.max(prediction, 1)\n",
        "            correct_samples += torch.sum(indices == y)\n",
        "            total_samples += y.shape[0]\n",
        "            \n",
        "            loss_accum += loss_value\n",
        "\n",
        "        ave_loss = loss_accum / (i_step + 1)\n",
        "        train_accuracy = float(correct_samples) / total_samples\n",
        "        val_accuracy = compute_accuracy(model, val_loader)\n",
        "        \n",
        "        loss_history.append(float(ave_loss))\n",
        "        train_history.append(train_accuracy)\n",
        "        val_history.append(val_accuracy)\n",
        "        \n",
        "        print(\"Average loss: %f, Train accuracy: %f, Val accuracy: %f\" % (ave_loss, train_accuracy, val_accuracy))\n",
        "        \n",
        "    return loss_history, train_history, val_history\n",
        "        \n",
        "def compute_accuracy(model, loader):\n",
        "    \"\"\"\n",
        "    Computes accuracy on the dataset wrapped in a loader\n",
        "    \n",
        "    Returns: accuracy as a float value between 0 and 1\n",
        "    \"\"\"\n",
        "    model.eval() # Evaluation mode\n",
        "    # TODO: Implement the inference of the model on all of the batches from loader,\n",
        "    #       and compute the overall accuracy.\n",
        "    # Hint: PyTorch has the argmax function!\n",
        "    \n",
        "    correct_samples = 0\n",
        "    total_samples = 0\n",
        "\n",
        "    for x, y in loader:\n",
        "        prediction = model(x)\n",
        "\n",
        "        _, indices = torch.max(prediction, 1)\n",
        "        correct_samples += torch.sum(indices == y)\n",
        "        total_samples += y.shape[0]\n",
        "    \n",
        "    return float(correct_samples) / total_samples\n",
        "\n",
        "loss_history, train_history, val_history = train_model(nn_model, train_loader, val_loader, loss, optimizer, 3)"
      ],
      "execution_count": 8,
      "outputs": [
        {
          "output_type": "stream",
          "text": [
            "Average loss: 1.712047, Train accuracy: 0.472614, Val accuracy: 0.572589\n",
            "Average loss: 1.433458, Train accuracy: 0.597362, Val accuracy: 0.617569\n",
            "Average loss: 1.370943, Train accuracy: 0.625892, Val accuracy: 0.635725\n"
          ],
          "name": "stdout"
        }
      ]
    },
    {
      "cell_type": "markdown",
      "metadata": {
        "id": "vzk34fLvkukU"
      },
      "source": [
        "## После основного цикла\n",
        "\n",
        "Посмотрим на другие возможности и оптимизации, которые предоставляет PyTorch.\n",
        "\n",
        "Добавьте еще один скрытый слой размера 100 нейронов к модели"
      ]
    },
    {
      "cell_type": "code",
      "metadata": {
        "scrolled": true,
        "id": "HbsSSJinkukV",
        "colab": {
          "base_uri": "https://localhost:8080/"
        },
        "outputId": "163e8123-1590-4d18-a12c-740bd4dc181b"
      },
      "source": [
        "# Since it's so easy to add layers, let's add some!\n",
        "\n",
        "# TODO: Implement a model with 2 hidden layers of the size 100\n",
        "nn_model = nn.Sequential(\n",
        "            Flattener(),\n",
        "            nn.Linear(3 * 32 * 32, 100),\n",
        "            nn.ReLU(inplace=True),\n",
        "            nn.Linear(100, 100),\n",
        "            nn.ReLU(inplace=True),\n",
        "            nn.Linear(100, 10),\n",
        "         )\n",
        "nn_model.type(torch.FloatTensor)\n",
        "\n",
        "optimizer = optim.SGD(nn_model.parameters(), lr=1e-2, weight_decay=1e-1)\n",
        "loss_history, train_history, val_history = train_model(nn_model, train_loader, val_loader, loss, optimizer, 5)"
      ],
      "execution_count": 9,
      "outputs": [
        {
          "output_type": "stream",
          "text": [
            "Average loss: 2.182439, Train accuracy: 0.193496, Val accuracy: 0.222237\n",
            "Average loss: 2.047044, Train accuracy: 0.248336, Val accuracy: 0.304348\n",
            "Average loss: 1.860182, Train accuracy: 0.355561, Val accuracy: 0.402703\n",
            "Average loss: 1.718658, Train accuracy: 0.416203, Val accuracy: 0.420654\n",
            "Average loss: 1.684032, Train accuracy: 0.432038, Val accuracy: 0.431711\n"
          ],
          "name": "stdout"
        }
      ]
    },
    {
      "cell_type": "markdown",
      "metadata": {
        "id": "gRMvO_TzkukV"
      },
      "source": [
        "Добавьте слой с Batch Normalization"
      ]
    },
    {
      "cell_type": "code",
      "metadata": {
        "scrolled": true,
        "id": "rsAb5TO-kukV",
        "colab": {
          "base_uri": "https://localhost:8080/"
        },
        "outputId": "47d98240-d0b9-4242-e6e7-3e3dfb4e0776"
      },
      "source": [
        "# We heard batch normalization is powerful, let's use it!\n",
        "# TODO: Add batch normalization after each of the hidden layers of the network, before or after non-linearity\n",
        "# Hint: check out torch.nn.BatchNorm1d\n",
        "\n",
        "nn_model = nn.Sequential(\n",
        "            Flattener(),\n",
        "            nn.Linear(3 * 32 * 32, 100),\n",
        "            nn.BatchNorm1d(100),\n",
        "            nn.ReLU(inplace=True),\n",
        "            nn.Linear(100, 100),\n",
        "            nn.BatchNorm1d(100),\n",
        "            nn.ReLU(inplace=True),\n",
        "            nn.Linear(100, 10),\n",
        "         )\n",
        "\n",
        "optimizer = optim.SGD(nn_model.parameters(), lr=1e-3, weight_decay=1e-1)\n",
        "loss_history, train_history, val_history = train_model(nn_model, train_loader, val_loader, loss, optimizer, 5)"
      ],
      "execution_count": 10,
      "outputs": [
        {
          "output_type": "stream",
          "text": [
            "Average loss: 2.072552, Train accuracy: 0.300822, Val accuracy: 0.401133\n",
            "Average loss: 1.799848, Train accuracy: 0.439801, Val accuracy: 0.495461\n",
            "Average loss: 1.656933, Train accuracy: 0.510613, Val accuracy: 0.552181\n",
            "Average loss: 1.568358, Train accuracy: 0.555097, Val accuracy: 0.585080\n",
            "Average loss: 1.506051, Train accuracy: 0.586237, Val accuracy: 0.611426\n"
          ],
          "name": "stdout"
        }
      ]
    },
    {
      "cell_type": "markdown",
      "metadata": {
        "id": "sOrQCSb1kukW"
      },
      "source": [
        "Добавьте уменьшение скорости обучения по ходу тренировки."
      ]
    },
    {
      "cell_type": "code",
      "metadata": {
        "scrolled": true,
        "id": "D5x_PcwHkukW",
        "colab": {
          "base_uri": "https://localhost:8080/"
        },
        "outputId": "c602d9b9-a4cd-4098-adaf-8c20534cb1c2"
      },
      "source": [
        "# Learning rate annealing\n",
        "# Reduce your learning rate 2x every 2 epochs\n",
        "# Hint: look up learning rate schedulers in PyTorch. You might need to extend train_model function a little bit too!\n",
        "\n",
        "nn_model = nn.Sequential(\n",
        "            Flattener(),\n",
        "            nn.Linear(3 * 32 * 32, 100),\n",
        "            nn.BatchNorm1d(100),\n",
        "            nn.ReLU(inplace=True),\n",
        "            nn.Linear(100, 100),\n",
        "            nn.BatchNorm1d(100),\n",
        "            nn.ReLU(inplace=True),\n",
        "            nn.Linear(100, 10),\n",
        "         )\n",
        "optimizer = optim.SGD(nn_model.parameters(), lr=1e-3, weight_decay=1e-1)\n",
        "loss_history, train_history, val_history = train_model(nn_model, train_loader, val_loader, loss, optimizer, 5)"
      ],
      "execution_count": 13,
      "outputs": [
        {
          "output_type": "stream",
          "text": [
            "Average loss: 2.079443, Train accuracy: 0.309644, Val accuracy: 0.448570\n",
            "Average loss: 1.778210, Train accuracy: 0.476538, Val accuracy: 0.535595\n",
            "Average loss: 1.633572, Train accuracy: 0.543664, Val accuracy: 0.591700\n",
            "Average loss: 1.544230, Train accuracy: 0.583916, Val accuracy: 0.613883\n",
            "Average loss: 1.482324, Train accuracy: 0.611712, Val accuracy: 0.637021\n"
          ],
          "name": "stdout"
        }
      ]
    },
    {
      "cell_type": "markdown",
      "metadata": {
        "id": "ivsDKyLUkukW"
      },
      "source": [
        "# Визуализируем ошибки модели\n",
        "\n",
        "Попробуем посмотреть, на каких изображениях наша модель ошибается.\n",
        "Для этого мы получим все предсказания модели на validation set и сравним их с истинными метками (ground truth).\n",
        "\n",
        "Первая часть - реализовать код на PyTorch, который вычисляет все предсказания модели на validation set.  \n",
        "Чтобы это сделать мы приводим код `SubsetSampler`, который просто проходит по всем заданным индексам последовательно и составляет из них батчи. \n",
        "\n",
        "Реализуйте функцию `evaluate_model`, которая прогоняет модель через все сэмплы validation set и запоминает предсказания модели и истинные метки."
      ]
    },
    {
      "cell_type": "code",
      "metadata": {
        "id": "Svzz0pazkukW"
      },
      "source": [
        "class SubsetSampler(Sampler):\n",
        "    r\"\"\"Samples elements with given indices sequentially\n",
        "\n",
        "    Arguments:\n",
        "        indices (ndarray): indices of the samples to take\n",
        "    \"\"\"\n",
        "\n",
        "    def __init__(self, indices):\n",
        "        self.indices = indices\n",
        "\n",
        "    def __iter__(self):\n",
        "        return (self.indices[i] for i in range(len(self.indices)))\n",
        "\n",
        "    def __len__(self):\n",
        "        return len(self.indices)\n",
        "    \n",
        "    \n",
        "def evaluate_model(model, dataset, indices):\n",
        "    \"\"\"\n",
        "    Computes predictions and ground truth labels for the indices of the dataset\n",
        "    \n",
        "    Returns: \n",
        "    predictions: np array of ints - model predictions\n",
        "    grount_truth: np array of ints - actual labels of the dataset\n",
        "    \"\"\"\n",
        "    model.eval() # Evaluation mode\n",
        "    \n",
        "    # TODO: Evaluate model on the list of indices and capture predictions\n",
        "    # and ground truth labels\n",
        "    # Hint: SubsetSampler above could be useful!\n",
        "    \n",
        "    sampler = SubsetSampler(indices)\n",
        "    loader = torch.utils.data.DataLoader(dataset, sampler=sampler)\n",
        "    \n",
        "    predictions, ground_truth = [], []\n",
        "    for x, y in loader:\n",
        "        _, indices = torch.max(model(x), 1)\n",
        "        predictions.append(indices)\n",
        "        ground_truth.append(y)\n",
        "    \n",
        "    return predictions, ground_truth\n",
        "\n",
        "# Evaluate model on validation\n",
        "predictions, gt = evaluate_model(nn_model, data_train, val_indices)\n",
        "assert len(predictions) == len(val_indices)\n",
        "assert len(gt) == len(val_indices)\n",
        "assert gt[100] == data_train[val_indices[100]][1]\n",
        "assert np.any(np.not_equal(gt, predictions))"
      ],
      "execution_count": 14,
      "outputs": []
    },
    {
      "cell_type": "markdown",
      "metadata": {
        "id": "Fx-MmO4ekukX"
      },
      "source": [
        "## Confusion matrix\n",
        "Первая часть визуализации - вывести confusion matrix (https://en.wikipedia.org/wiki/Confusion_matrix ).\n",
        "\n",
        "Confusion matrix - это матрица, где каждой строке соответствуют классы предсказанный, а столбцу - классы истинных меток (ground truth). Число с координатами `i,j` - это количество сэмплов класса `j`, которые модель считает классом `i`.\n",
        "\n",
        "![image.png](attachment:image.png)\n",
        "\n",
        "Для того, чтобы облегчить вам задачу, ниже реализована функция `visualize_confusion_matrix` которая визуализирует такую матрицу.  \n",
        "Вам осталось реализовать функцию `build_confusion_matrix`, которая ее вычислит.\n",
        "\n",
        "Результатом должна быть матрица 10x10."
      ]
    },
    {
      "cell_type": "code",
      "metadata": {
        "id": "VvydPp-UkukX",
        "colab": {
          "base_uri": "https://localhost:8080/",
          "height": 580
        },
        "outputId": "a2cd9172-7b55-4bb9-8714-a1f23b7ce5db"
      },
      "source": [
        "def visualize_confusion_matrix(confusion_matrix):\n",
        "    \"\"\"\n",
        "    Visualizes confusion matrix\n",
        "    \n",
        "    confusion_matrix: np array of ints, x axis - predicted class, y axis - actual class\n",
        "                      [i][j] should have the count of samples that were predicted to be class i,\n",
        "                      but have j in the ground truth\n",
        "                     \n",
        "    \"\"\"\n",
        "    # Adapted from \n",
        "    # https://stackoverflow.com/questions/2897826/confusion-matrix-with-number-of-classified-misclassified-instances-on-it-python\n",
        "    assert confusion_matrix.shape[0] == confusion_matrix.shape[1]\n",
        "    size = confusion_matrix.shape[0]\n",
        "    fig = plt.figure(figsize=(10,10))\n",
        "    plt.title(\"Confusion matrix\")\n",
        "    plt.ylabel(\"predicted\")\n",
        "    plt.xlabel(\"ground truth\")\n",
        "    res = plt.imshow(confusion_matrix, cmap='GnBu', interpolation='nearest')\n",
        "    cb = fig.colorbar(res)\n",
        "    plt.xticks(np.arange(size))\n",
        "    plt.yticks(np.arange(size))\n",
        "    for i, row in enumerate(confusion_matrix):\n",
        "        for j, count in enumerate(row):\n",
        "            plt.text(j, i, count, fontsize=14, horizontalalignment='center', verticalalignment='center')\n",
        "    \n",
        "def build_confusion_matrix(predictions, ground_truth):\n",
        "    \"\"\"\n",
        "    Builds confusion matrix from predictions and ground truth\n",
        "\n",
        "    predictions: np array of ints, model predictions for all validation samples\n",
        "    ground_truth: np array of ints, ground truth for all validation samples\n",
        "    \n",
        "    Returns:\n",
        "    np array of ints, (10,10), counts of samples for predicted/ground_truth classes\n",
        "    \"\"\"\n",
        "    \n",
        "    confusion_matrix = np.zeros((10,10), np.int)\n",
        "    \n",
        "    # TODO: Implement filling the prediction matrix\n",
        "    for pred, truth in zip(predictions, ground_truth):\n",
        "        confusion_matrix[pred][truth] += 1\n",
        "\n",
        "    return confusion_matrix\n",
        "\n",
        "confusion_matrix = build_confusion_matrix(predictions, gt)\n",
        "visualize_confusion_matrix(confusion_matrix)"
      ],
      "execution_count": 15,
      "outputs": [
        {
          "output_type": "display_data",
          "data": {
            "image/png": "[encoded data removed]",
            "text/plain": [
              "<Figure size 720x720 with 2 Axes>"
            ]
          },
          "metadata": {
            "tags": [],
            "needs_background": "light"
          }
        }
      ]
    },
    {
      "cell_type": "markdown",
      "metadata": {
        "id": "gfFXE25ZkukX"
      },
      "source": [
        "Наконец, посмотрим на изображения, соответствующие некоторым элементам этой матрицы.\n",
        "\n",
        "Как и раньше, вам дана функция `visualize_images`, которой нужно воспрользоваться при реализации функции `visualize_predicted_actual`. Эта функция должна вывести несколько примеров, соответствующих заданному элементу матрицы.\n",
        "\n",
        "Визуализируйте наиболее частые ошибки и попробуйте понять, почему модель их совершает."
      ]
    },
    {
      "cell_type": "code",
      "metadata": {
        "id": "eOpnpXS9kukY",
        "colab": {
          "base_uri": "https://localhost:8080/",
          "height": 67
        },
        "outputId": "ffb9ae0f-0078-4094-b729-07f0c95fc0af"
      },
      "source": [
        "data_train_images = dset.SVHN('./data/', split='train',download=True)\n",
        "\n",
        "def visualize_images(indices, data, title='', max_num=10):\n",
        "    \"\"\"\n",
        "    Visualizes several images from the dataset\n",
        " \n",
        "    indices: array of indices to visualize\n",
        "    data: torch Dataset with the images\n",
        "    title: string, title of the plot\n",
        "    max_num: int, max number of images to display\n",
        "    \"\"\"\n",
        "    to_show = min(len(indices), max_num)\n",
        "    fig = plt.figure(figsize=(10,1.5))\n",
        "    fig.suptitle(title)\n",
        "    for i, index in enumerate(indices[:to_show]):\n",
        "        plt.subplot(1,to_show, i+1)\n",
        "        plt.axis('off')\n",
        "        sample = data[index][0]\n",
        "        plt.imshow(sample)\n",
        "        \n",
        "def visualize_predicted_actual(predicted_class, gt_class, predictions, groud_truth, val_indices, data):\n",
        "    \"\"\"\n",
        "    Visualizes images of a ground truth class which were predicted as the other class \n",
        "    \n",
        "    predicted: int 0-9, index of the predicted class\n",
        "    gt_class: int 0-9, index of the ground truth class\n",
        "    predictions: np array of ints, model predictions for all validation samples\n",
        "    ground_truth: np array of ints, ground truth for all validation samples\n",
        "    val_indices: np array of ints, indices of validation samples\n",
        "    \"\"\"\n",
        "\n",
        "    # TODO: Implement visualization using visualize_images above\n",
        "    # predictions and ground_truth are provided for validation set only, defined by val_indices\n",
        "    # Hint: numpy index arrays might be helpful\n",
        "    # https://docs.scipy.org/doc/numpy/user/basics.indexing.html#index-arrays\n",
        "    # Please make the title meaningful!\n",
        "    \n",
        "    indices = val_indices[(predictions == predicted_class) & (groud_truth == gt_class)]\n",
        "    visualize_images(indices, data, 'Predicted as the wrong class')\n",
        "\n",
        "visualize_predicted_actual(6, 8, predictions, gt, np.array(val_indices), data_train_images)\n",
        "visualize_predicted_actual(1, 7, predictions, gt, np.array(val_indices), data_train_images)"
      ],
      "execution_count": 21,
      "outputs": [
        {
          "output_type": "stream",
          "text": [
            "Using downloaded and verified file: ./data/train_32x32.mat\n"
          ],
          "name": "stdout"
        },
        {
          "output_type": "display_data",
          "data": {
            "text/plain": [
              "<Figure size 720x108 with 0 Axes>"
            ]
          },
          "metadata": {
            "tags": []
          }
        },
        {
          "output_type": "display_data",
          "data": {
            "text/plain": [
              "<Figure size 720x108 with 0 Axes>"
            ]
          },
          "metadata": {
            "tags": []
          }
        }
      ]
    },
    {
      "cell_type": "markdown",
      "metadata": {
        "id": "2IyxDAhAkukY"
      },
      "source": [
        "# Переходим к свободным упражнениям!\n",
        "\n",
        "Натренируйте модель как можно лучше - экспериментируйте сами!\n",
        "Что следует обязательно попробовать:\n",
        "- перебор гиперпараметров с помощью валидационной выборки\n",
        "- другие оптимизаторы вместо SGD\n",
        "- изменение количества слоев и их размеров\n",
        "- наличие Batch Normalization\n",
        "\n",
        "Но ограничиваться этим не стоит!\n",
        "\n",
        "Точность на тестовой выборке должна быть доведена до **80%**"
      ]
    },
    {
      "cell_type": "code",
      "metadata": {
        "id": "R7TvxweJM3Yw"
      },
      "source": [
        "import itertools"
      ],
      "execution_count": 23,
      "outputs": []
    },
    {
      "cell_type": "code",
      "metadata": {
        "id": "xH_Zq4SVM3Ly"
      },
      "source": [
        "learning_rates = [1e-3]\r\n",
        "ns_neurons = [100]\r\n",
        "weight_decays = [1e-3]\r\n",
        "optimizers = [optim.SGD]\r\n",
        "n_epochs = 25"
      ],
      "execution_count": 27,
      "outputs": []
    },
    {
      "cell_type": "code",
      "metadata": {
        "scrolled": true,
        "id": "4Uc9fVnukukY",
        "colab": {
          "base_uri": "https://localhost:8080/"
        },
        "outputId": "1aaecfc7-1fcf-4a21-918d-fe4642b4224e"
      },
      "source": [
        "best_classifier = None\r\n",
        "best_optimizer = None\r\n",
        "best_val_accuracy = None\r\n",
        "\r\n",
        "for lr, n_neurons, weight_decay, nn_optimizer in itertools.product(learning_rates, \r\n",
        "                                                                ns_neurons, \r\n",
        "                                                                weight_decays,\r\n",
        "                                                                optimizers):\r\n",
        "    print(f'learning_rate={lr}, n_neurons={n_neurons}, weight_decay={weight_decay}, optimizer={nn_optimizer.__name__}')\r\n",
        "\r\n",
        "    nn_models = [nn.Sequential(Flattener(),\r\n",
        "                               nn.Linear(3 * 32 * 32, n_neurons),\r\n",
        "                               nn.BatchNorm1d(n_neurons),\r\n",
        "                               nn.ReLU(inplace=True),\r\n",
        "                               nn.Linear(n_neurons, 10),\r\n",
        "                              ),\r\n",
        "                 nn.Sequential(Flattener(),\r\n",
        "                               nn.Linear(3 * 32 * 32, n_neurons),\r\n",
        "                               nn.BatchNorm1d(n_neurons),\r\n",
        "                               nn.ReLU(inplace=True),\r\n",
        "                               nn.Linear(n_neurons, n_neurons),\r\n",
        "                               nn.BatchNorm1d(n_neurons),\r\n",
        "                               nn.ReLU(inplace=True),\r\n",
        "                               nn.Linear(n_neurons, 10),\r\n",
        "                              )\r\n",
        "                ]\r\n",
        "\r\n",
        "    for nn_model in nn_models:\r\n",
        "        optimizer = nn_optimizer(nn_model.parameters(), lr=lr, weight_decay=weight_decay)\r\n",
        "        _, _, val_hist = train_model(nn_model, train_loader, val_loader, loss, optimizer, n_epochs)\r\n",
        "        accuracy = val_hist[-1]\r\n",
        "        \r\n",
        "        if not best_val_accuracy or accuracy > best_val_accuracy:\r\n",
        "            best_classifier = nn_model\r\n",
        "            best_optimizer = optimizer\r\n",
        "            best_val_accuracy = accuracy"
      ],
      "execution_count": 28,
      "outputs": [
        {
          "output_type": "stream",
          "text": [
            "learning_rate=0.001, n_neurons=100, weight_decay=0.001, optimizer=SGD\n",
            "Average loss: 2.092902, Train accuracy: 0.282565, Val accuracy: 0.388984\n",
            "Average loss: 1.828694, Train accuracy: 0.437242, Val accuracy: 0.504471\n",
            "Average loss: 1.673325, Train accuracy: 0.524230, Val accuracy: 0.583100\n",
            "Average loss: 1.564290, Train accuracy: 0.583166, Val accuracy: 0.626715\n",
            "Average loss: 1.478819, Train accuracy: 0.618793, Val accuracy: 0.644529\n",
            "Average loss: 1.412878, Train accuracy: 0.642921, Val accuracy: 0.658044\n",
            "Average loss: 1.355366, Train accuracy: 0.660103, Val accuracy: 0.688690\n",
            "Average loss: 1.305861, Train accuracy: 0.673225, Val accuracy: 0.703228\n",
            "Average loss: 1.263964, Train accuracy: 0.685800, Val accuracy: 0.708484\n",
            "Average loss: 1.226411, Train accuracy: 0.694400, Val accuracy: 0.723841\n",
            "Average loss: 1.192280, Train accuracy: 0.702488, Val accuracy: 0.721452\n",
            "Average loss: 1.163417, Train accuracy: 0.707760, Val accuracy: 0.733329\n",
            "Average loss: 1.136119, Train accuracy: 0.713920, Val accuracy: 0.711556\n",
            "Average loss: 1.111470, Train accuracy: 0.721052, Val accuracy: 0.738243\n",
            "Average loss: 1.086972, Train accuracy: 0.726342, Val accuracy: 0.742065\n",
            "Average loss: 1.066410, Train accuracy: 0.730608, Val accuracy: 0.751212\n",
            "Average loss: 1.047626, Train accuracy: 0.733850, Val accuracy: 0.754897\n",
            "Average loss: 1.028898, Train accuracy: 0.739020, Val accuracy: 0.748618\n",
            "Average loss: 1.009724, Train accuracy: 0.743729, Val accuracy: 0.758720\n",
            "Average loss: 0.993866, Train accuracy: 0.749172, Val accuracy: 0.764453\n",
            "Average loss: 0.979155, Train accuracy: 0.750316, Val accuracy: 0.761928\n",
            "Average loss: 0.965248, Train accuracy: 0.753421, Val accuracy: 0.762678\n",
            "Average loss: 0.952251, Train accuracy: 0.758404, Val accuracy: 0.766023\n",
            "Average loss: 0.939672, Train accuracy: 0.759564, Val accuracy: 0.773190\n",
            "Average loss: 0.925118, Train accuracy: 0.763574, Val accuracy: 0.775374\n",
            "Average loss: 2.041368, Train accuracy: 0.313466, Val accuracy: 0.454918\n",
            "Average loss: 1.690820, Train accuracy: 0.501689, Val accuracy: 0.572862\n",
            "Average loss: 1.488685, Train accuracy: 0.582944, Val accuracy: 0.628694\n",
            "Average loss: 1.346693, Train accuracy: 0.626967, Val accuracy: 0.666030\n",
            "Average loss: 1.238300, Train accuracy: 0.660001, Val accuracy: 0.679817\n",
            "Average loss: 1.152430, Train accuracy: 0.682763, Val accuracy: 0.712511\n",
            "Average loss: 1.085127, Train accuracy: 0.700730, Val accuracy: 0.721862\n",
            "Average loss: 1.026898, Train accuracy: 0.713835, Val accuracy: 0.729302\n",
            "Average loss: 0.980819, Train accuracy: 0.726871, Val accuracy: 0.745069\n",
            "Average loss: 0.938327, Train accuracy: 0.736785, Val accuracy: 0.740905\n",
            "Average loss: 0.902759, Train accuracy: 0.744975, Val accuracy: 0.767797\n",
            "Average loss: 0.874363, Train accuracy: 0.752363, Val accuracy: 0.769163\n",
            "Average loss: 0.845389, Train accuracy: 0.756987, Val accuracy: 0.765682\n",
            "Average loss: 0.818287, Train accuracy: 0.765570, Val accuracy: 0.780220\n",
            "Average loss: 0.796340, Train accuracy: 0.770570, Val accuracy: 0.779537\n",
            "Average loss: 0.775326, Train accuracy: 0.775125, Val accuracy: 0.780629\n",
            "Average loss: 0.761864, Train accuracy: 0.777600, Val accuracy: 0.778991\n",
            "Average loss: 0.737589, Train accuracy: 0.784698, Val accuracy: 0.798512\n",
            "Average loss: 0.727274, Train accuracy: 0.787223, Val accuracy: 0.797761\n",
            "Average loss: 0.712091, Train accuracy: 0.792035, Val accuracy: 0.792983\n",
            "Average loss: 0.698408, Train accuracy: 0.795516, Val accuracy: 0.801993\n",
            "Average loss: 0.682444, Train accuracy: 0.799304, Val accuracy: 0.785748\n",
            "Average loss: 0.672907, Train accuracy: 0.802563, Val accuracy: 0.809023\n",
            "Average loss: 0.663894, Train accuracy: 0.804423, Val accuracy: 0.798717\n",
            "Average loss: 0.653966, Train accuracy: 0.804457, Val accuracy: 0.818033\n"
          ],
          "name": "stdout"
        }
      ]
    },
    {
      "cell_type": "code",
      "metadata": {
        "id": "onW4--6jkukY",
        "colab": {
          "base_uri": "https://localhost:8080/"
        },
        "outputId": "ea760ecf-0ab5-462c-8b77-3837ecb02ce7"
      },
      "source": [
        "# Как всегда, в конце проверяем на test set\n",
        "test_loader = torch.utils.data.DataLoader(data_test, batch_size=batch_size)\n",
        "test_accuracy = compute_accuracy(nn_model, test_loader)\n",
        "print(\"Test accuracy: %2.4f\" % test_accuracy)"
      ],
      "execution_count": 29,
      "outputs": [
        {
          "output_type": "stream",
          "text": [
            "Test accuracy: 0.7921\n"
          ],
          "name": "stdout"
        }
      ]
    },
    {
      "cell_type": "code",
      "metadata": {
        "id": "IXlCH4cmkukZ"
      },
      "source": [
        ""
      ],
      "execution_count": null,
      "outputs": []
    }
  ]
}