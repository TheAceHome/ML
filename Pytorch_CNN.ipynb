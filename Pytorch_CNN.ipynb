{
  "nbformat": 4,
  "nbformat_minor": 0,
  "metadata": {
    "accelerator": "GPU",
    "colab": {
      "name": "Pytorch_CNN.ipynb",
      "provenance": [],
      "collapsed_sections": []
    },
    "kernelspec": {
      "display_name": "Python 3",
      "language": "python",
      "name": "python3"
    },
    "language_info": {
      "codemirror_mode": {
        "name": "ipython",
        "version": 3
      },
      "file_extension": ".py",
      "mimetype": "text/x-python",
      "name": "python",
      "nbconvert_exporter": "python",
      "pygments_lexer": "ipython3",
      "version": "3.7.3"
    }
  },
  "cells": [
    {
      "cell_type": "markdown",
      "metadata": {
        "id": "Gkj0z_Ois99o"
      },
      "source": [
        "# Задание 4.2 - сверточные нейронные сети (CNNs) в PyTorch\n",
        "\n",
        "Это упражнение мы буде выполнять в Google Colab - https://colab.research.google.com/  \n",
        "Google Colab позволяет запускать код в notebook в облаке Google, где можно воспользоваться бесплатным GPU!  \n"
      ]
    },
    {
      "cell_type": "code",
      "metadata": {
        "id": "FcXBeP1O7cnY",
        "colab": {
          "base_uri": "https://localhost:8080/"
        },
        "outputId": "86d90383-2491-447c-ff07-9fb0b8ed4a32"
      },
      "source": [
        "# Запустите эту ячейку если работаете в Colab\n",
        "import os\n",
        "if not os.path.exists('PyTorch_CNN.ipynb'):\n",
        "    !git clone https://github.com/TheAceHome/ML.git\n",
        "%cd ML/data\n",
        "! wget -c http://ufldl.stanford.edu/housenumbers/train_32x32.mat http://ufldl.stanford.edu/housenumbers/test_32x32.mat\n",
        "%cd ../Assignment4"
      ],
      "execution_count": 2,
      "outputs": [
        {
          "output_type": "stream",
          "text": [
            "fatal: destination path 'ML' already exists and is not an empty directory.\n",
            "/content/ML/data\n",
            "--2021-03-26 07:09:48--  http://ufldl.stanford.edu/housenumbers/train_32x32.mat\n",
            "Resolving ufldl.stanford.edu (ufldl.stanford.edu)... 171.64.68.10\n",
            "Connecting to ufldl.stanford.edu (ufldl.stanford.edu)|171.64.68.10|:80... connected.\n",
            "HTTP request sent, awaiting response... 200 OK\n",
            "Length: 182040794 (174M) [text/plain]\n",
            "Saving to: ‘train_32x32.mat’\n",
            "\n",
            "train_32x32.mat     100%[===================>] 173.61M  17.2MB/s    in 19s     \n",
            "\n",
            "2021-03-26 07:10:07 (9.10 MB/s) - ‘train_32x32.mat’ saved [182040794/182040794]\n",
            "\n",
            "--2021-03-26 07:10:07--  http://ufldl.stanford.edu/housenumbers/test_32x32.mat\n",
            "Reusing existing connection to ufldl.stanford.edu:80.\n",
            "HTTP request sent, awaiting response... 200 OK\n",
            "Length: 64275384 (61M) [text/plain]\n",
            "Saving to: ‘test_32x32.mat’\n",
            "\n",
            "test_32x32.mat      100%[===================>]  61.30M  17.5MB/s    in 3.5s    \n",
            "\n",
            "2021-03-26 07:10:11 (17.7 MB/s) - ‘test_32x32.mat’ saved [64275384/64275384]\n",
            "\n",
            "FINISHED --2021-03-26 07:10:11--\n",
            "Total wall clock time: 23s\n",
            "Downloaded: 2 files, 235M in 23s (10.4 MB/s)\n",
            "/content/ML/Assignment4\n"
          ],
          "name": "stdout"
        }
      ]
    },
    {
      "cell_type": "code",
      "metadata": {
        "id": "-afwWw-Q85vD"
      },
      "source": [
        "from collections import namedtuple\n",
        "\n",
        "import matplotlib.pyplot as plt\n",
        "import numpy as np\n",
        "import PIL\n",
        "import torch\n",
        "import torch.nn as nn\n",
        "import torch.optim as optim\n",
        "import torchvision.datasets as dset\n",
        "from torch.utils.data.sampler import SubsetRandomSampler\n",
        "\n",
        "from torchvision import transforms"
      ],
      "execution_count": 3,
      "outputs": []
    },
    {
      "cell_type": "code",
      "metadata": {
        "id": "NNU-OD9O9ltP"
      },
      "source": [
        "device = torch.device(\"cuda:0\") # Let's make sure GPU is available!"
      ],
      "execution_count": 4,
      "outputs": []
    },
    {
      "cell_type": "markdown",
      "metadata": {
        "id": "6DLhxDVks99x"
      },
      "source": [
        "# Загружаем данные"
      ]
    },
    {
      "cell_type": "code",
      "metadata": {
        "colab": {
          "base_uri": "https://localhost:8080/"
        },
        "id": "YAvkoRx-9FsP",
        "outputId": "bca2f071-45cf-4682-eca0-6d227f88313d"
      },
      "source": [
        "# First, lets load the dataset\n",
        "data_train = dset.SVHN('../data',download=True,\n",
        "                       transform=transforms.Compose([\n",
        "                           transforms.ToTensor(),\n",
        "                           transforms.Normalize(mean=[0.43,0.44,0.47],\n",
        "                                               std=[0.20,0.20,0.20])                           \n",
        "                       ])\n",
        "                      )\n",
        "data_test = dset.SVHN('../data', split='test', download=True,\n",
        "                      transform=transforms.Compose([\n",
        "                           transforms.ToTensor(),\n",
        "                           transforms.Normalize(mean=[0.43,0.44,0.47],\n",
        "                                               std=[0.20,0.20,0.20])                           \n",
        "                       ]))"
      ],
      "execution_count": 24,
      "outputs": [
        {
          "output_type": "stream",
          "text": [
            "Using downloaded and verified file: ../data/train_32x32.mat\n",
            "Using downloaded and verified file: ../data/test_32x32.mat\n"
          ],
          "name": "stdout"
        }
      ]
    },
    {
      "cell_type": "markdown",
      "metadata": {
        "id": "8QQCnkEVs99y"
      },
      "source": [
        "Разделяем данные на training и validation.\n",
        "\n",
        "На всякий случай для подробностей - https://pytorch.org/tutorials/beginner/data_loading_tutorial.html"
      ]
    },
    {
      "cell_type": "code",
      "metadata": {
        "id": "YRnr8CPg7Hli"
      },
      "source": [
        "batch_size = 64\n",
        "\n",
        "data_size = data_train.data.shape[0]\n",
        "validation_split = .2\n",
        "split = int(np.floor(validation_split * data_size))\n",
        "indices = list(range(data_size))\n",
        "np.random.shuffle(indices)\n",
        "\n",
        "train_indices, val_indices = indices[split:], indices[:split]\n",
        "\n",
        "train_sampler = SubsetRandomSampler(train_indices)\n",
        "val_sampler = SubsetRandomSampler(val_indices)\n",
        "\n",
        "train_loader = torch.utils.data.DataLoader(data_train, batch_size=batch_size, \n",
        "                                           sampler=train_sampler)\n",
        "val_loader = torch.utils.data.DataLoader(data_train, batch_size=batch_size,\n",
        "                                         sampler=val_sampler)"
      ],
      "execution_count": 25,
      "outputs": []
    },
    {
      "cell_type": "code",
      "metadata": {
        "id": "LyYvt-T67PBG"
      },
      "source": [
        "# We'll use a special helper module to shape it into a flat tensor\n",
        "class Flattener(nn.Module):\n",
        "    def forward(self, x):\n",
        "        batch_size, *_ = x.shape\n",
        "        return x.view(batch_size, -1)"
      ],
      "execution_count": 26,
      "outputs": []
    },
    {
      "cell_type": "markdown",
      "metadata": {
        "id": "W-MYUhrFs99z"
      },
      "source": [
        "Создадим простейшую сеть с новыми слоями:  \n",
        "Convolutional - `nn.Conv2d`  \n",
        "MaxPool - `nn.MaxPool2d`"
      ]
    },
    {
      "cell_type": "code",
      "metadata": {
        "id": "w9SFVGZP7SQd"
      },
      "source": [
        "nn_model = nn.Sequential(\n",
        "            nn.Conv2d(3, 64, 3, padding=1),\n",
        "            nn.ReLU(inplace=True),\n",
        "            nn.MaxPool2d(4),\n",
        "            nn.Conv2d(64, 64, 3, padding=1),\n",
        "            nn.ReLU(inplace=True),\n",
        "            nn.MaxPool2d(4),    \n",
        "            Flattener(),\n",
        "            nn.Linear(64*2*2, 10),\n",
        "          )\n",
        "\n",
        "nn_model.type(torch.cuda.FloatTensor)\n",
        "nn_model.to(device)\n",
        "\n",
        "loss = nn.CrossEntropyLoss().type(torch.cuda.FloatTensor)\n",
        "optimizer = optim.SGD(nn_model.parameters(), lr=1e-1, weight_decay=1e-4)"
      ],
      "execution_count": 27,
      "outputs": []
    },
    {
      "cell_type": "markdown",
      "metadata": {
        "id": "DAKdOp9ws99z"
      },
      "source": [
        "Восстановите функцию `compute_accuracy` из прошлого задания.  \n",
        "Единственное отличие в новом - она должна передать данные на GPU прежде чем прогонять через модель. Сделайте это так же, как это делает функция `train_model`"
      ]
    },
    {
      "cell_type": "code",
      "metadata": {
        "colab": {
          "base_uri": "https://localhost:8080/"
        },
        "id": "2ek3KVQK7hJ6",
        "outputId": "b4d2a504-dc46-418a-d9ee-91566adc19e1"
      },
      "source": [
        "def train_model(model, train_loader, val_loader, loss, optimizer, num_epochs):    \n",
        "    loss_history = []\n",
        "    train_history = []\n",
        "    val_history = []\n",
        "    for epoch in range(num_epochs):\n",
        "        model.train() # Enter train mode\n",
        "        \n",
        "        loss_accum = 0\n",
        "        correct_samples = 0\n",
        "        total_samples = 0\n",
        "        for i_step, (x, y) in enumerate(train_loader):\n",
        "          \n",
        "            x_gpu = x.to(device)\n",
        "            y_gpu = y.to(device)\n",
        "            prediction = model(x_gpu)    \n",
        "            loss_value = loss(prediction, y_gpu)\n",
        "            optimizer.zero_grad()\n",
        "            loss_value.backward()\n",
        "            optimizer.step()\n",
        "            \n",
        "            _, indices = torch.max(prediction, 1)\n",
        "            correct_samples += torch.sum(indices == y_gpu)\n",
        "            total_samples += y.shape[0]\n",
        "            \n",
        "            loss_accum += loss_value\n",
        "\n",
        "        ave_loss = loss_accum / i_step\n",
        "        train_accuracy = float(correct_samples) / total_samples\n",
        "        val_accuracy = compute_accuracy(model, val_loader)\n",
        "        \n",
        "        loss_history.append(float(ave_loss))\n",
        "        train_history.append(train_accuracy)\n",
        "        val_history.append(val_accuracy)\n",
        "        \n",
        "        print(\"Num of epoch: %i / %i Average loss: %f, Train accuracy: %f, Val accuracy: %f\" % (epoch + 1, num_epochs, ave_loss, train_accuracy, val_accuracy))\n",
        "        \n",
        "    return loss_history, train_history, val_history\n",
        "        \n",
        "def compute_accuracy(model, loader):\n",
        "    \"\"\"\n",
        "    Computes accuracy on the dataset wrapped in a loader\n",
        "    \n",
        "    Returns: accuracy as a float value between 0 and 1\n",
        "    \"\"\"\n",
        "    model.eval() # Evaluation mode\n",
        "    correct_samples = 0\n",
        "    total_samples = 0\n",
        "    for i_step, (x, y) in enumerate(loader):\n",
        "      x = x.to(device)\n",
        "      y = y.to(device)\n",
        "      prediction = model(x)    \n",
        "      _, indices = torch.max(prediction, 1)\n",
        "      correct_samples += torch.sum(indices == y)\n",
        "      total_samples += y.shape[0]\n",
        "      \n",
        "    test_accuracy = float(correct_samples) / total_samples\n",
        "    assert 0 <= test_accuracy <= 1 ,\"Accuracy error\"\n",
        "    \n",
        "    \n",
        "\n",
        "    return test_accuracy\n",
        "\n",
        "loss_history, train_history, val_history = train_model(nn_model, train_loader, val_loader, loss, optimizer, 5)"
      ],
      "execution_count": 9,
      "outputs": [
        {
          "output_type": "stream",
          "text": [
            "Num of epoch: 1 / 5 Average loss: 1.384171, Train accuracy: 0.538989, Val accuracy: 0.760972\n",
            "Num of epoch: 2 / 5 Average loss: 0.688763, Train accuracy: 0.791779, Val accuracy: 0.789366\n",
            "Num of epoch: 3 / 5 Average loss: 0.583975, Train accuracy: 0.825154, Val accuracy: 0.813119\n",
            "Num of epoch: 4 / 5 Average loss: 0.542117, Train accuracy: 0.838515, Val accuracy: 0.837690\n",
            "Num of epoch: 5 / 5 Average loss: 0.507125, Train accuracy: 0.849452, Val accuracy: 0.842195\n"
          ],
          "name": "stdout"
        }
      ]
    },
    {
      "cell_type": "markdown",
      "metadata": {
        "id": "6a-3a1ZFGEw_"
      },
      "source": [
        "# Аугментация данных (Data augmentation)\n",
        "\n",
        "В работе с изображениями одним из особенно важных методов является аугментация данных - то есть, генерация дополнительных данных для тренировки на основе изначальных.   \n",
        "Таким образом, мы получаем возможность \"увеличить\" набор данных для тренировки, что ведет к лучшей работе сети.\n",
        "Важно, чтобы аугментированные данные были похожи на те, которые могут встретиться в реальной жизни, иначе польза от аугментаций уменьшается и может ухудшить работу сети.\n",
        "\n",
        "С PyTorch идут несколько таких алгоритмов, называемых `transforms`. Более подробно про них можно прочитать тут -\n",
        "https://pytorch.org/tutorials/beginner/data_loading_tutorial.html#transforms\n",
        "\n",
        "Ниже мы используем следующие алгоритмы генерации:\n",
        "- ColorJitter - случайное изменение цвета\n",
        "- RandomHorizontalFlip - горизонтальное отражение с вероятностью 50%\n",
        "- RandomVerticalFlip - вертикальное отражение с вероятностью 50%\n",
        "- RandomRotation - случайный поворот"
      ]
    },
    {
      "cell_type": "code",
      "metadata": {
        "colab": {
          "base_uri": "https://localhost:8080/"
        },
        "id": "jCWMUWmr7t5g",
        "outputId": "f8ca13f6-3bf8-437a-cc0a-9640cdc1e533"
      },
      "source": [
        "tfs = transforms.Compose([\n",
        "    transforms.ColorJitter(hue=.50, saturation=.50),\n",
        "    transforms.RandomHorizontalFlip(),\n",
        "    transforms.RandomVerticalFlip(),\n",
        "    transforms.RandomRotation(50, resample=PIL.Image.BILINEAR),\n",
        "    transforms.ToTensor(),\n",
        "    transforms.Normalize(mean=[0.43,0.44,0.47],\n",
        "                       std=[0.20,0.20,0.20])                           \n",
        "])\n",
        "\n",
        "# Create augmented train dataset\n",
        "data_aug_train = dset.SVHN('./', download=True,\n",
        "                       transform=tfs\n",
        "                      )\n",
        "\n",
        "train_aug_loader = torch.utils.data.DataLoader(data_aug_train, batch_size=batch_size, \n",
        "                                           sampler=train_sampler)"
      ],
      "execution_count": 28,
      "outputs": [
        {
          "output_type": "stream",
          "text": [
            "/usr/local/lib/python3.7/dist-packages/torchvision/transforms/transforms.py:1201: UserWarning: Argument resample is deprecated and will be removed since v0.10.0. Please, use interpolation instead\n",
            "  \"Argument resample is deprecated and will be removed since v0.10.0. Please, use interpolation instead\"\n"
          ],
          "name": "stderr"
        },
        {
          "output_type": "stream",
          "text": [
            "Using downloaded and verified file: ./train_32x32.mat\n"
          ],
          "name": "stdout"
        }
      ]
    },
    {
      "cell_type": "markdown",
      "metadata": {
        "id": "iDjb8_tcs991"
      },
      "source": [
        "Визуализируем результаты агментации (вообще, смотреть на сгенерированные данные всегда очень полезно)."
      ]
    },
    {
      "cell_type": "code",
      "metadata": {
        "colab": {
          "base_uri": "https://localhost:8080/",
          "height": 207
        },
        "id": "YlJJEro1KZ45",
        "outputId": "8cd93c0e-afb9-40d6-80e5-baabf79fb81a"
      },
      "source": [
        "# TODO: Visualize some augmented images!\n",
        "# hint: you can create new datasets and loaders to accomplish this\n",
        "\n",
        "# Based on the visualizations, should we keep all the augmentations?\n",
        "\n",
        "tfs = transforms.Compose([\n",
        "    transforms.ColorJitter(hue=.20, saturation=.20),\n",
        "    transforms.RandomHorizontalFlip(),\n",
        "    transforms.RandomVerticalFlip(),\n",
        "    transforms.RandomRotation(10, resample=PIL.Image.BILINEAR),\n",
        "])\n",
        "\n",
        "data_aug_vis = dset.SVHN('./', \n",
        "                       transform=tfs\n",
        "                      )\n",
        "\n",
        "plt.figure(figsize=(30, 3))\n",
        "\n",
        "for i, (x, y) in enumerate(data_aug_vis):\n",
        "    if i == 10:\n",
        "        break\n",
        "    plt.subplot(1, 10, i+1)\n",
        "    plt.grid(False)\n",
        "    plt.imshow(x)\n",
        "    plt.axis('off')"
      ],
      "execution_count": 11,
      "outputs": [
        {
          "output_type": "stream",
          "text": [
            "/usr/local/lib/python3.7/dist-packages/torchvision/transforms/transforms.py:1201: UserWarning: Argument resample is deprecated and will be removed since v0.10.0. Please, use interpolation instead\n",
            "  \"Argument resample is deprecated and will be removed since v0.10.0. Please, use interpolation instead\"\n"
          ],
          "name": "stderr"
        },
        {
          "output_type": "display_data",
          "data": {
            "image/png": "[encoded data removed]",
            "text/plain": [
              "<Figure size 2160x216 with 10 Axes>"
            ]
          },
          "metadata": {
            "tags": [],
            "needs_background": "light"
          }
        }
      ]
    },
    {
      "cell_type": "markdown",
      "metadata": {
        "id": "o2LrmsYHoguB"
      },
      "source": [
        "Все ли агментации одинаково полезны на этом наборе данных? Могут ли быть среди них те, которые собьют модель с толку?\n",
        "\n",
        "Выберите из них только корректные"
      ]
    },
    {
      "cell_type": "code",
      "metadata": {
        "colab": {
          "base_uri": "https://localhost:8080/"
        },
        "id": "evro9ksXGs9u",
        "outputId": "0275e0c2-139c-478f-a3d3-bb0bbed6eb4c"
      },
      "source": [
        "# TODO: \n",
        "tfs = transforms.Compose([\n",
        "    transforms.ColorJitter(hue=.50, saturation=.50),\n",
        "    #transforms.RandomHorizontalFlip(),\n",
        "    #transforms.RandomVerticalFlip(),\n",
        "    transforms.RandomRotation(50, resample=PIL.Image.BILINEAR),\n",
        "    transforms.ToTensor(),\n",
        "    transforms.Normalize(mean=[0.43,0.44,0.47],\n",
        "                       std=[0.20,0.20,0.20])                           \n",
        "])\n",
        "\n",
        "data_aug_train = dset.SVHN('./', download=True,\n",
        "                       transform=tfs\n",
        "                      )\n",
        "# TODO create new instances of loaders with the augmentations you chose\n",
        "train_aug_loader = torch.utils.data.DataLoader(data_aug_train, batch_size=batch_size, \n",
        "                                           sampler=train_sampler)"
      ],
      "execution_count": 29,
      "outputs": [
        {
          "output_type": "stream",
          "text": [
            "/usr/local/lib/python3.7/dist-packages/torchvision/transforms/transforms.py:1201: UserWarning: Argument resample is deprecated and will be removed since v0.10.0. Please, use interpolation instead\n",
            "  \"Argument resample is deprecated and will be removed since v0.10.0. Please, use interpolation instead\"\n"
          ],
          "name": "stderr"
        },
        {
          "output_type": "stream",
          "text": [
            "Using downloaded and verified file: ./train_32x32.mat\n"
          ],
          "name": "stdout"
        }
      ]
    },
    {
      "cell_type": "code",
      "metadata": {
        "colab": {
          "base_uri": "https://localhost:8080/"
        },
        "id": "PeO6Zw0DHqPR",
        "outputId": "e292774e-761a-4c71-fd5c-7e5e92fd1fa0"
      },
      "source": [
        "# Finally, let's train with augmentations!\n",
        "\n",
        "# Note we shouldn't use augmentations on validation\n",
        "\n",
        "loss_history, train_history, val_history = train_model(nn_model, train_aug_loader, val_loader, loss, optimizer, 5)"
      ],
      "execution_count": 13,
      "outputs": [
        {
          "output_type": "stream",
          "text": [
            "Num of epoch: 1 / 5 Average loss: 1.239161, Train accuracy: 0.596048, Val accuracy: 0.729575\n",
            "Num of epoch: 2 / 5 Average loss: 0.987566, Train accuracy: 0.681347, Val accuracy: 0.743908\n",
            "Num of epoch: 3 / 5 Average loss: 0.904690, Train accuracy: 0.709108, Val accuracy: 0.751758\n",
            "Num of epoch: 4 / 5 Average loss: 0.870997, Train accuracy: 0.722179, Val accuracy: 0.739608\n",
            "Num of epoch: 5 / 5 Average loss: 0.838275, Train accuracy: 0.731376, Val accuracy: 0.738311\n"
          ],
          "name": "stdout"
        }
      ]
    },
    {
      "cell_type": "markdown",
      "metadata": {
        "id": "r0bcioK6JBDK"
      },
      "source": [
        "# LeNet\n",
        "Попробуем имплементировать классическую архитектуру сверточной нейронной сети, предложенную Яном ЛеКуном в 1998 году. В свое время она достигла впечатляющих результатов на MNIST, посмотрим как она справится с SVHN?\n",
        "Она описана в статье [\"Gradient Based Learning Applied to Document Recognition\"](http://yann.lecun.com/exdb/publis/pdf/lecun-01a.pdf), попробуйте прочитать ключевые части и имплементировать предложенную архитетуру на PyTorch.\n",
        "\n",
        "Реализовывать слои и функцию ошибки LeNet, которых нет в PyTorch, **не нужно** - просто возьмите их размеры и переведите в уже известные нам Convolutional, Pooling и Fully Connected layers.\n",
        "\n",
        "Если в статье не очень понятно, можно просто погуглить LeNet и разобраться в деталях :)"
      ]
    },
    {
      "cell_type": "markdown",
      "metadata": {
        "id": "LvW12QY6v5K6"
      },
      "source": [
        "![image.png](data:image/png;base64,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)"
      ]
    },
    {
      "cell_type": "code",
      "metadata": {
        "id": "ieEzZUglJAUB"
      },
      "source": [
        "# TODO: Implement LeNet-like architecture for SVHN task\n",
        "lenet_model = nn.Sequential(\n",
        "    nn.Conv2d(3,6,kernel_size=5),\n",
        "    nn.ReLU(inplace=True),\n",
        "    nn.AvgPool2d(kernel_size=2,stride=2),\n",
        "\n",
        "    nn.Conv2d(6,16,kernel_size=5),\n",
        "    nn.ReLU(inplace=True),\n",
        "    nn.AvgPool2d(kernel_size=2,stride=2),\n",
        "\n",
        "    Flattener(),\n",
        "    nn.Linear(5 * 5 * 16,120),\n",
        "    nn.ReLU(inplace=True),\n",
        "\n",
        "    nn.Linear(120,84),\n",
        "    nn.ReLU(inplace=True),\n",
        "\n",
        "    nn.Linear(84,10)\n",
        "          )\n",
        "\n",
        "lenet_model.type(torch.cuda.FloatTensor)\n",
        "lenet_model.to(device)\n",
        "\n",
        "loss = nn.CrossEntropyLoss().type(torch.cuda.FloatTensor)\n",
        "optimizer = optim.SGD(lenet_model.parameters(), lr=1e-1, weight_decay=1e-4)"
      ],
      "execution_count": 15,
      "outputs": []
    },
    {
      "cell_type": "code",
      "metadata": {
        "colab": {
          "base_uri": "https://localhost:8080/"
        },
        "id": "WMmaPfdeKk9H",
        "outputId": "04f2be2d-0e52-474b-dd75-c9731f2a9c18"
      },
      "source": [
        "# Let's train it!\n",
        "loss_history, train_history, val_history = train_model(lenet_model, train_aug_loader, val_loader, loss, optimizer, 10)"
      ],
      "execution_count": 16,
      "outputs": [
        {
          "output_type": "stream",
          "text": [
            "Num of epoch: 1 / 10 Average loss: 2.112210, Train accuracy: 0.246084, Val accuracy: 0.513958\n",
            "Num of epoch: 2 / 10 Average loss: 1.147913, Train accuracy: 0.634014, Val accuracy: 0.737834\n",
            "Num of epoch: 3 / 10 Average loss: 0.763497, Train accuracy: 0.762089, Val accuracy: 0.791414\n",
            "Num of epoch: 4 / 10 Average loss: 0.647560, Train accuracy: 0.800447, Val accuracy: 0.816258\n",
            "Num of epoch: 5 / 10 Average loss: 0.591879, Train accuracy: 0.817613, Val accuracy: 0.821241\n",
            "Num of epoch: 6 / 10 Average loss: 0.546855, Train accuracy: 0.830734, Val accuracy: 0.838100\n",
            "Num of epoch: 7 / 10 Average loss: 0.517598, Train accuracy: 0.841381, Val accuracy: 0.846359\n",
            "Num of epoch: 8 / 10 Average loss: 0.500461, Train accuracy: 0.846193, Val accuracy: 0.841717\n",
            "Num of epoch: 9 / 10 Average loss: 0.480092, Train accuracy: 0.852097, Val accuracy: 0.851682\n",
            "Num of epoch: 10 / 10 Average loss: 0.463356, Train accuracy: 0.857301, Val accuracy: 0.842809\n"
          ],
          "name": "stdout"
        }
      ]
    },
    {
      "cell_type": "markdown",
      "metadata": {
        "id": "u_O9qiYySvuj"
      },
      "source": [
        "# Подбор гиперпараметров"
      ]
    },
    {
      "cell_type": "code",
      "metadata": {
        "id": "i6mhfdQ9K-N3",
        "colab": {
          "base_uri": "https://localhost:8080/"
        },
        "outputId": "294aa064-9259-414d-d89e-d3faeb25e762"
      },
      "source": [
        "%%time\n",
        "# The key hyperparameters we're going to tune are learning speed, annealing rate and regularization\n",
        "# We also encourage you to try different optimizers as well\n",
        "\n",
        "Hyperparams = namedtuple(\"Hyperparams\", ['learning_rate', 'anneal_epochs', 'reg'])\n",
        "RunResult = namedtuple(\"RunResult\", ['model', 'train_history', 'val_history', 'final_val_accuracy'])\n",
        "\n",
        "learning_rates = [1e-3, 1e-4]\n",
        "anneal_coeff = 0.2\n",
        "anneal_epochs = [1, 2, 3]\n",
        "reg = [1e-6, 1e-7]\n",
        "\n",
        "batch_size = 64\n",
        "epoch_num = 10\n",
        "\n",
        "# Record all the runs here\n",
        "# Key should be Hyperparams and values should be RunResult\n",
        "run_record = {} \n",
        "\n",
        "# Use grid search or random search and record all runs in run_record dictionnary \n",
        "# Important: perform search in logarithmic space!\n",
        "\n",
        "# TODO: Your code here!\n",
        "params_grid = [(i,j,k) for i in learning_rates for j in anneal_epochs for k in reg]\n",
        "#from tqdm import tqdm\n",
        "def weight_reset(m):\n",
        "    if isinstance(m, nn.Conv2d) or isinstance(m, nn.Linear):\n",
        "        m.reset_parameters()\n",
        "\n",
        "for i,param in enumerate(params_grid):\n",
        "  lenet_model.apply(weight_reset)\n",
        "  optimizer = optim.SGD(lenet_model.parameters(), lr=param[0], weight_decay=param[2])\n",
        "  loss_history, train_history, val_history = train_model(lenet_model, train_aug_loader, val_loader, loss, optimizer, param[1])\n",
        "  run_record[Hyperparams(*param)] = RunResult(lenet_model, train_history, val_history, val_history[-1])\n",
        "  print(f\"Прошло {i + 1} / {len(params_grid)}\")\n"
      ],
      "execution_count": 19,
      "outputs": [
        {
          "output_type": "stream",
          "text": [
            "Num of epoch: 1 / 1 Average loss: 2.308335, Train accuracy: 0.085384, Val accuracy: 0.170227\n",
            "Прошло 1 / 12\n",
            "Num of epoch: 1 / 1 Average loss: 2.289470, Train accuracy: 0.162594, Val accuracy: 0.192410\n",
            "Прошло 2 / 12\n",
            "Num of epoch: 1 / 2 Average loss: 2.296036, Train accuracy: 0.150292, Val accuracy: 0.192410\n",
            "Num of epoch: 2 / 2 Average loss: 2.279179, Train accuracy: 0.188411, Val accuracy: 0.192410\n",
            "Прошло 3 / 12\n",
            "Num of epoch: 1 / 2 Average loss: 2.287398, Train accuracy: 0.151913, Val accuracy: 0.192410\n",
            "Num of epoch: 2 / 2 Average loss: 2.272734, Train accuracy: 0.188411, Val accuracy: 0.192410\n",
            "Прошло 4 / 12\n",
            "Num of epoch: 1 / 3 Average loss: 2.294634, Train accuracy: 0.133280, Val accuracy: 0.161149\n",
            "Num of epoch: 2 / 3 Average loss: 2.277846, Train accuracy: 0.179282, Val accuracy: 0.192410\n",
            "Num of epoch: 3 / 3 Average loss: 2.262403, Train accuracy: 0.188411, Val accuracy: 0.192410\n",
            "Прошло 5 / 12\n",
            "Num of epoch: 1 / 3 Average loss: 2.292225, Train accuracy: 0.144610, Val accuracy: 0.144017\n",
            "Num of epoch: 2 / 3 Average loss: 2.277952, Train accuracy: 0.144610, Val accuracy: 0.143949\n",
            "Num of epoch: 3 / 3 Average loss: 2.266575, Train accuracy: 0.169539, Val accuracy: 0.191932\n",
            "Прошло 6 / 12\n",
            "Num of epoch: 1 / 1 Average loss: 2.298108, Train accuracy: 0.116131, Val accuracy: 0.114941\n",
            "Прошло 7 / 12\n",
            "Num of epoch: 1 / 1 Average loss: 2.303063, Train accuracy: 0.079070, Val accuracy: 0.077606\n",
            "Прошло 8 / 12\n",
            "Num of epoch: 1 / 2 Average loss: 2.306698, Train accuracy: 0.094717, Val accuracy: 0.092690\n",
            "Num of epoch: 2 / 2 Average loss: 2.304920, Train accuracy: 0.094973, Val accuracy: 0.092758\n",
            "Прошло 9 / 12\n",
            "Num of epoch: 1 / 2 Average loss: 2.304435, Train accuracy: 0.188291, Val accuracy: 0.192410\n",
            "Num of epoch: 2 / 2 Average loss: 2.302383, Train accuracy: 0.188411, Val accuracy: 0.192410\n",
            "Прошло 10 / 12\n",
            "Num of epoch: 1 / 3 Average loss: 2.316694, Train accuracy: 0.077944, Val accuracy: 0.077333\n",
            "Num of epoch: 2 / 3 Average loss: 2.314478, Train accuracy: 0.078115, Val accuracy: 0.077333\n",
            "Num of epoch: 3 / 3 Average loss: 2.312326, Train accuracy: 0.078149, Val accuracy: 0.077333\n",
            "Прошло 11 / 12\n",
            "Num of epoch: 1 / 3 Average loss: 2.309199, Train accuracy: 0.076323, Val accuracy: 0.079244\n",
            "Num of epoch: 2 / 3 Average loss: 2.307150, Train accuracy: 0.077296, Val accuracy: 0.080199\n",
            "Num of epoch: 3 / 3 Average loss: 2.305180, Train accuracy: 0.078917, Val accuracy: 0.080609\n",
            "Прошло 12 / 12\n",
            "CPU times: user 22min 48s, sys: 9.79 s, total: 22min 57s\n",
            "Wall time: 22min 57s\n"
          ],
          "name": "stdout"
        }
      ]
    },
    {
      "cell_type": "code",
      "metadata": {
        "id": "Y6xExdw8JB1l",
        "colab": {
          "base_uri": "https://localhost:8080/"
        },
        "outputId": "ae771614-edbe-44e9-9bf4-ef1020b82222"
      },
      "source": [
        "best_val_accuracy = None\n",
        "best_hyperparams = None\n",
        "best_run = None\n",
        "\n",
        "for hyperparams, run_result in run_record.items():\n",
        "    if best_val_accuracy is None or best_val_accuracy < run_result.final_val_accuracy:\n",
        "        best_val_accuracy = run_result.final_val_accuracy\n",
        "        best_hyperparams = hyperparams\n",
        "        best_run = run_result\n",
        "        \n",
        "print(\"Best validation accuracy: %4.2f, best hyperparams: %s\" % (best_val_accuracy, best_hyperparams))\n",
        "        "
      ],
      "execution_count": 23,
      "outputs": [
        {
          "output_type": "stream",
          "text": [
            "Best validation accuracy: 0.19, best hyperparams: Hyperparams(learning_rate=0.001, anneal_epochs=1, reg=1e-07)\n"
          ],
          "name": "stdout"
        }
      ]
    },
    {
      "cell_type": "markdown",
      "metadata": {
        "id": "LOmsR0uVgtgf"
      },
      "source": [
        "# Свободное упражнение - догоним и перегоним LeNet!\n",
        "\n",
        "Попробуйте найти архитектуру и настройки тренировки, чтобы выступить лучше наших бейзлайнов.\n",
        "\n",
        "Что можно и нужно попробовать:\n",
        "- BatchNormalization (для convolution layers он в PyTorch называется [batchnorm2d](https://pytorch.org/docs/stable/nn.html#batchnorm2d))\n",
        "- Изменить количество слоев и их толщину\n",
        "- Изменять количество эпох тренировки\n",
        "- Попробовать и другие агментации"
      ]
    },
    {
      "cell_type": "code",
      "metadata": {
        "id": "tSVhD747icoc",
        "colab": {
          "base_uri": "https://localhost:8080/"
        },
        "outputId": "8b310408-9547-4fba-e584-d7555e37ea7a"
      },
      "source": [
        "best_model =nn.Sequential(\n",
        "            nn.Conv2d(3, 16,3,padding=1), #16 * 32 * 32\n",
        "            nn.BatchNorm2d(16),\n",
        "            nn.ReLU(inplace=True),\n",
        "            nn.Dropout(p=0.1),\n",
        "\n",
        "            nn.Conv2d(16, 32, 3, padding=1), # 32 * 32 * 32\n",
        "            nn.BatchNorm2d(32),\n",
        "            nn.ReLU(inplace=True),\n",
        "            nn.Dropout(p=0.1),\n",
        "\n",
        "            nn.Conv2d(32, 64, 3, padding=1), # 64 * 32 * 32\n",
        "            nn.BatchNorm2d(64),\n",
        "            nn.ReLU(inplace=True),\n",
        "            nn.Dropout(p=0.1),\n",
        "\n",
        "            nn.Conv2d(64, 128, 3, padding=1), #128 * 32 * 32\n",
        "            nn.BatchNorm2d(128),\n",
        "            nn.ReLU(inplace=True),\n",
        "            nn.Dropout(p=0.1),\n",
        "\n",
        "            nn.Conv2d(128, 256, 3, padding=1), #256 * 32 * 32\n",
        "            nn.BatchNorm2d(256),\n",
        "            nn.ReLU(inplace=True),\n",
        "            nn.MaxPool2d(2), # 256 * 16 * 16\n",
        "            nn.Dropout(p=0.1),\n",
        "\n",
        "            nn.Conv2d(256, 256, 3, padding=1), #256 * 16 * 16\n",
        "            nn.BatchNorm2d(256),\n",
        "            nn.ReLU(inplace=True),\n",
        "            nn.MaxPool2d(2), # 256 * 8 * 8\n",
        "            nn.Dropout(p=0.1),\n",
        "\n",
        "            nn.Conv2d(256, 256, 3, padding=1), #256 * 8 * 8\n",
        "            nn.BatchNorm2d(256),\n",
        "            nn.ReLU(inplace=True),\n",
        "            nn.MaxPool2d(2), # 256 * 4 * 4\n",
        "            nn.Dropout(p=0.1),\n",
        "\n",
        "            nn.Conv2d(256, 256, 3, padding=1), #256 * 4 * 4\n",
        "            nn.BatchNorm2d(256),\n",
        "            nn.ReLU(inplace=True),\n",
        "            nn.Dropout(p=0.1),\n",
        "\n",
        "            nn.Conv2d(256, 256, 3, padding=1), #256 * 4 * 4\n",
        "            nn.BatchNorm2d(256),\n",
        "            nn.ReLU(inplace=True),\n",
        "            nn.Dropout(p=0.1),\n",
        "\n",
        "            nn.Conv2d(256, 256, 3, padding=1), #256 * 4 * 4\n",
        "            nn.BatchNorm2d(256),\n",
        "            nn.ReLU(inplace=True),\n",
        "            nn.MaxPool2d(2), # 256 * 2 * 2\n",
        "            nn.Dropout(p=0.1),\n",
        "\n",
        "            Flattener(),\n",
        "            nn.Linear(256 * 2 * 2, 100),\n",
        "            nn.Dropout(p=0.5),\n",
        "            nn.Linear(100,10)\n",
        "          )\n",
        "best_model.apply(weight_reset)\n",
        "best_model = best_model.to(device)\n",
        "\n",
        "loss = nn.CrossEntropyLoss().type(torch.cuda.FloatTensor)\n",
        "optimizer = optim.Adam(best_model.parameters(), lr=1e-4, weight_decay=0.0006)\n",
        "loss_history, train_history, val_history = train_model(best_model, train_aug_loader, val_loader, loss, optimizer, 10)\n"
      ],
      "execution_count": 30,
      "outputs": [
        {
          "output_type": "stream",
          "text": [
            "Num of epoch: 1 / 10 Average loss: 2.067435, Train accuracy: 0.257124, Val accuracy: 0.700498\n",
            "Num of epoch: 2 / 10 Average loss: 0.750427, Train accuracy: 0.760571, Val accuracy: 0.852502\n",
            "Num of epoch: 3 / 10 Average loss: 0.518780, Train accuracy: 0.839539, Val accuracy: 0.881578\n",
            "Num of epoch: 4 / 10 Average loss: 0.452663, Train accuracy: 0.860629, Val accuracy: 0.903488\n",
            "Num of epoch: 5 / 10 Average loss: 0.409995, Train accuracy: 0.876327, Val accuracy: 0.917617\n",
            "Num of epoch: 6 / 10 Average loss: 0.380206, Train accuracy: 0.884005, Val accuracy: 0.918436\n",
            "Num of epoch: 7 / 10 Average loss: 0.357639, Train accuracy: 0.892468, Val accuracy: 0.920961\n",
            "Num of epoch: 8 / 10 Average loss: 0.340377, Train accuracy: 0.897348, Val accuracy: 0.921712\n",
            "Num of epoch: 9 / 10 Average loss: 0.326688, Train accuracy: 0.902160, Val accuracy: 0.920415\n",
            "Num of epoch: 10 / 10 Average loss: 0.312846, Train accuracy: 0.906562, Val accuracy: 0.926694\n"
          ],
          "name": "stdout"
        }
      ]
    },
    {
      "cell_type": "markdown",
      "metadata": {
        "id": "ubeKgBcnhx7N"
      },
      "source": [
        "# Финальный аккорд - проверим лучшую модель на test set\n",
        "\n",
        "В качестве разнообразия - напишите код для прогона модели на test set вы.\n",
        "\n",
        "В результате вы должны натренировать модель, которая покажет более **90%** точности на test set.  \n",
        "Как водится, лучший результат в группе получит дополнительные баллы!"
      ]
    },
    {
      "cell_type": "code",
      "metadata": {
        "id": "EIqM1kdeh-hd",
        "colab": {
          "base_uri": "https://localhost:8080/"
        },
        "outputId": "de51c492-8fc9-4e71-c133-73dc9dde1e83"
      },
      "source": [
        "test_loader = torch.utils.data.DataLoader(data_test, batch_size=batch_size)\n",
        "best_model.eval()\n",
        "correct_samples = 0\n",
        "total_samples = 0\n",
        "for i_step, (x, y) in enumerate(test_loader):\n",
        "  x = x.to(device)\n",
        "  y = y.to(device)\n",
        "  prediction = best_model(x)    \n",
        "  _, indices = torch.max(prediction, 1)\n",
        "  correct_samples += torch.sum(indices == y)\n",
        "  total_samples += y.shape[0]\n",
        "final_test_accuracy = float(correct_samples) / total_samples\n",
        "print(\"Final test accuracy - \", final_test_accuracy)"
      ],
      "execution_count": 32,
      "outputs": [
        {
          "output_type": "stream",
          "text": [
            "Final test accuracy -  0.9322372464658881\n"
          ],
          "name": "stdout"
        }
      ]
    },
    {
      "cell_type": "code",
      "metadata": {
        "id": "gcPteLjThJeB"
      },
      "source": [
        "torch.save(best_model.state_dict(),\"MODEL_2.pth\")"
      ],
      "execution_count": 33,
      "outputs": []
    }
  ]
}